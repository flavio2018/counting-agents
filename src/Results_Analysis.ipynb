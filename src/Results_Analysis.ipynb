{
 "cells": [
  {
   "cell_type": "code",
   "execution_count": 1,
   "id": "loaded-coaching",
   "metadata": {},
   "outputs": [
    {
     "name": "stdout",
     "output_type": "stream",
     "text": [
      "============================================================================================\n",
      "Device set to : cpu\n",
      "============================================================================================\n"
     ]
    },
    {
     "name": "stderr",
     "output_type": "stream",
     "text": [
      "/home/silvester/anaconda3/lib/python3.7/site-packages/torch/cuda/__init__.py:52: UserWarning: CUDA initialization: The NVIDIA driver on your system is too old (found version 6050). Please update your GPU driver by downloading and installing a new version from the URL: http://www.nvidia.com/Download/index.aspx Alternatively, go to: https://pytorch.org to install a PyTorch version that has been compiled with your version of the CUDA driver. (Triggered internally at  /pytorch/c10/cuda/CUDAFunctions.cpp:100.)\n",
      "  return torch._C._cuda_getDeviceCount() > 0\n"
     ]
    }
   ],
   "source": [
    "from SingleAgent import SingleRLAgent\n",
    "from MultiAgentEnvironment import MultiAgentEnvironment\n",
    "import matplotlib.pyplot as plt\n",
    "from RLTrainer import demonstrate_model\n",
    "from DQN_Agent_Single import DQN_Agent_Single\n",
    "from DQN_Agent_Double import DQN_Agent_Double\n",
    "import pytorch_utils as ptu\n",
    "from QNets import N_Concat_CNNs\n",
    "from ipywidgets import interact, interactive, fixed, interact_manual\n",
    "from IPython.display import display, update_display\n",
    "import ipywidgets as widgets\n",
    "import imageio\n",
    "import time\n",
    "import random\n",
    "import numpy as np\n",
    "from collections import namedtuple \n",
    "from collections import deque\n",
    "import pickle\n",
    "import torch\n",
    "#!pip3 install pickle5\n",
    "import pickle5 as pickle\n",
    "import seaborn as sb\n",
    "import os\n",
    "from pathlib import Path\n",
    "import math"
   ]
  },
  {
   "cell_type": "code",
   "execution_count": 146,
   "id": "affiliated-pocket",
   "metadata": {},
   "outputs": [],
   "source": [
    "??np.corrcoef"
   ]
  },
  {
   "cell_type": "code",
   "execution_count": 149,
   "id": "developmental-abortion",
   "metadata": {},
   "outputs": [
    {
     "name": "stdout",
     "output_type": "stream",
     "text": [
      "[[-1. -1. -1. -1. -1. -1. -1. -1. -1. -1.]\n",
      " [-1. -1. -1. -1.  1. -1.  1. -1. -1.  1.]]\n",
      "0.0\n"
     ]
    }
   ],
   "source": [
    "vec1 = [1.]*10\n",
    "vec2 = [2.]*10\n",
    "vec2[1] = 1\n",
    "\n",
    "vec1 = 2*np.array(vec1)-1  #2*x-1 (binary to bipolar)\n",
    "vec2 = 2*np.array(vec2)-1\n",
    "vec3 = np.stack([vec1, vec2])\n",
    "vec3 = np.array([[-1., -1., -1., -1., -1., -1., -1., -1., -1., -1.]\n",
    " ,[-1., -1., -1., -1., 1., -1., 1., -1., -1., 1.]])\n",
    "print(vec3)\n",
    "#corry = np.corrcoef(vec3)[0, 1]\n",
    "corry = np.cov(vec3)[0, 1]\n",
    "print(corry)"
   ]
  },
  {
   "cell_type": "code",
   "execution_count": 98,
   "id": "divided-ghana",
   "metadata": {},
   "outputs": [
    {
     "name": "stdout",
     "output_type": "stream",
     "text": [
      "[0.0875, 0.0875, 0.0875, 0.0875, 0.0875, 0.0875, 0.0875, 0.0875, 0.3]\n",
      "1.0\n"
     ]
    }
   ],
   "source": [
    "#numpy.random.choice(numpy.arange(1, 7), p=[0.1, 0.05, 0.05, 0.2, 0.4, 0.2])\n",
    "max_objects = 8\n",
    "dominant_prob = 0.3\n",
    "probs = [(1-dominant_prob)/(max_objects) if i<max_objects else dominant_prob for i in range(max_objects+1)]\n",
    "print(probs)\n",
    "print(sum(probs))"
   ]
  },
  {
   "cell_type": "code",
   "execution_count": 96,
   "id": "julian-sunset",
   "metadata": {},
   "outputs": [
    {
     "data": {
      "text/plain": [
       "array([0, 1, 2, 3, 4, 5, 6, 7, 8])"
      ]
     },
     "execution_count": 96,
     "metadata": {},
     "output_type": "execute_result"
    }
   ],
   "source": [
    "np.arange(0, max_objects+1)"
   ]
  },
  {
   "cell_type": "code",
   "execution_count": 97,
   "id": "latin-tuesday",
   "metadata": {
    "collapsed": true
   },
   "outputs": [
    {
     "name": "stdout",
     "output_type": "stream",
     "text": [
      "8\n",
      "8\n",
      "8\n",
      "8\n",
      "6\n",
      "7\n",
      "8\n",
      "8\n",
      "2\n",
      "8\n",
      "8\n",
      "8\n",
      "8\n",
      "8\n",
      "8\n",
      "2\n",
      "8\n",
      "5\n",
      "0\n",
      "8\n"
     ]
    }
   ],
   "source": [
    "for i in range(20):\n",
    "    n_objects = np.random.choice(np.arange(0, max_objects+1), p=probs)\n",
    "    print(n_objects)"
   ]
  },
  {
   "cell_type": "code",
   "execution_count": 2,
   "id": "interracial-annex",
   "metadata": {},
   "outputs": [],
   "source": [
    "data_dir = '/home/silvester/programming/rl-single-agent-numbers/counting-agents/src/../data/'"
   ]
  },
  {
   "cell_type": "code",
   "execution_count": 2,
   "id": "designed-degree",
   "metadata": {},
   "outputs": [],
   "source": [
    "data_dir = '/home/silvester/programming/rl-single-agent-numbers/remote/counting-agents/src/../data/'"
   ]
  },
  {
   "cell_type": "code",
   "execution_count": 26,
   "id": "greenhouse-canada",
   "metadata": {},
   "outputs": [],
   "source": [
    "exp_type_list = ['static_final', 'temporal_final', 'temporal_abacus_1D_final', 'temporal_abacus_2D_final']\n",
    "nice_exp_type_dict = {'static_final': 'Static', \n",
    "                      'temporal_final': 'Temporal', \n",
    "                      'temporal_abacus_1D_final': 'Temporal+1D-constraints', \n",
    "                      'temporal_abacus_2D_final': 'Temporal+2D-constraints'}\n",
    "exp_type_dir_list = [data_dir + exp_type for exp_type in exp_type_list]"
   ]
  },
  {
   "cell_type": "code",
   "execution_count": 27,
   "id": "composed-roulette",
   "metadata": {},
   "outputs": [
    {
     "name": "stdout",
     "output_type": "stream",
     "text": [
      "{'static_final': 5, 'temporal_final': 5, 'temporal_abacus_1D_final': 5, 'temporal_abacus_2D_final': 5}\n"
     ]
    }
   ],
   "source": [
    "# Count how many full runs there have been for each setup\n",
    "full_count_for_each_setup = {exp_type: 0 for exp_type in exp_type_list}\n",
    "\n",
    "for exp_type in exp_type_list:\n",
    "    exp_type_dir = data_dir + exp_type\n",
    "    exp_dir_list = os.listdir(exp_type_dir)\n",
    "    for exp_dir in exp_dir_list:\n",
    "        master_episodes_file_dir = exp_type_dir + '/' + exp_dir + '/master_episodes.pkl'\n",
    "        #print(master_episodes_file_dir)\n",
    "        if(os.path.exists(master_episodes_file_dir)):\n",
    "            with open(master_episodes_file_dir, 'rb') as f:\n",
    "                master_episodes = pickle.load(f)\n",
    "                #print(master_episodes)\n",
    "            if(max(master_episodes.keys()) == 9):\n",
    "                full_count_for_each_setup[exp_type] += 1\n",
    "                #print(exp_type_dir + '/' + exp_dir)\n",
    "            \n",
    "print(full_count_for_each_setup)"
   ]
  },
  {
   "cell_type": "code",
   "execution_count": null,
   "id": "behind-extent",
   "metadata": {},
   "outputs": [],
   "source": [
    "ext_img_shape = (img_height * agenty.ext_shape[1], img_height * agenty.ext_shape[0])\n",
    "ext_repr_img = Image.fromarray(agenty.ext_repr.externalrepresentation * 255).resize(ext_img_shape, resample=0)\n",
    "ext_repr_img = utils.add_grid_lines(ext_repr_img, agenty.ext_repr.externalrepresentation)\n",
    "ext_repr_img = ext_repr_img.transpose(Image.TRANSPOSE)\n",
    "annotaty = str(agenty.n_objects)\n",
    "ext_repr_img = utils.annotate_below(ext_repr_img, annotaty).convert('RGB')\n",
    "dimmy = 1 if agenty.ext_shape[1] == 1 else 2\n",
    "if (dimmy==1):\n",
    "    space_img = Image.fromarray(np.ones(agenty.ext_shape[1], dtype=np.uint8)*255).resize((img_height, img_height//4), resample=0)\n",
    "    ext_repr_img = utils.concat_imgs_h([ext_repr_img, space_img], dist=0)\n",
    "else:\n",
    "    space_img = Image.fromarray(np.ones(agenty.ext_shape[1], dtype=np.uint8)*255).resize((img_height//4, img_height), resample=0)\n",
    "    ext_repr_img = utils.concat_imgs_h([ext_repr_img, space_img], dist=0)\n",
    "\n",
    "#ext_repr_img = np.asarray( ext_repr_img ).astype(np.uint8).transpose([2,0,1])\n",
    "ext_repr_imgs[agenty.n_objects].append(ext_repr_img)\n",
    "\n",
    "\n",
    "\n",
    "total_imgs_tensor = [np.expand_dims(np.asarray(ext_repr_imgs[i][0]).astype(np.uint8).transpose([2, 0, 1]), axis=0) for i in range(0, env.max_objects + 1)]\n",
    "total_imgs = [ext_repr_imgs[i][0] for i in range(0, env.max_objects + 1)]\n",
    "\n",
    "min_examples = 10000\n",
    "for i in range(0, env.max_objects + 1):\n",
    "    if(len(ext_repr_imgs[i]) < min_examples):\n",
    "        min_examples = len(ext_repr_imgs[i])\n",
    "example_repr_for_all_numbers_list = []\n",
    "show_n_examples = min(min_examples, 10)\n",
    "for j in range(show_n_examples):\n",
    "    j_example_repr_for_all_numbers = [ext_repr_imgs[i][j] for i in range(0, env.max_objects + 1)]\n",
    "    j_example_repr_for_all_numbers = utils.concat_imgs_h(j_example_repr_for_all_numbers, dist=50)\n",
    "    example_repr_for_all_numbers_list.append(j_example_repr_for_all_numbers)\n",
    "\n",
    "all_example_repr = utils.concat_imgs_v(example_repr_for_all_numbers_list, dist=50) #.resize(env.max_objects*100,show_n_examples*100*10)\n",
    "\n",
    "if(env.dimmy==1):\n",
    "    total_imgs_tensor = np.concatenate(total_imgs_tensor, axis=2)\n",
    "    total_imgs = utils.concat_imgs_v(total_imgs, dist=10)"
   ]
  },
  {
   "cell_type": "code",
   "execution_count": null,
   "id": "offensive-wells",
   "metadata": {},
   "outputs": [],
   "source": []
  },
  {
   "cell_type": "code",
   "execution_count": 98,
   "id": "blind-graham",
   "metadata": {},
   "outputs": [
    {
     "name": "stdout",
     "output_type": "stream",
     "text": [
      "exp_type /home/silvester/programming/rl-single-agent-numbers/remote/counting-agents/src/../data/temporal_abacus_1D_final\n",
      "[0, 9, 8, 7, 6, 5, 4, 3, 2, 1]\n",
      "[0, 1, 2, 3, 4, 5, 6, 7, 8, 9]\n",
      "[0, 1, 2, 3, 4, 5, 6, 7, 8, 9]\n",
      "[0, 1, 2, 3, 4, 5, 6, 7, 8, 9]\n",
      "[0, 9, 8, 7, 6, 5, 4, 3, 2, 1]\n",
      "{0: [0, 0, 0, 0, 0], 1: [9, 1, 1, 1, 9], 2: [8, 2, 2, 2, 8], 3: [7, 3, 3, 3, 7], 4: [6, 4, 4, 4, 6], 5: [5, 5, 5, 5, 5], 6: [4, 6, 6, 6, 4], 7: [3, 7, 7, 7, 3], 8: [2, 8, 8, 8, 2], 9: [1, 9, 9, 9, 1]}\n"
     ]
    },
    {
     "name": "stderr",
     "output_type": "stream",
     "text": [
      "/home/silvester/anaconda3/lib/python3.7/site-packages/ipykernel_launcher.py:47: UserWarning: FixedFormatter should only be used together with FixedLocator\n"
     ]
    },
    {
     "data": {
      "image/png": "[encoded data removed]",
      "text/plain": [
       "<Figure size 576x504 with 1 Axes>"
      ]
     },
     "metadata": {
      "needs_background": "light"
     },
     "output_type": "display_data"
    }
   ],
   "source": [
    "# Plot token-positions for multiple runs and setup: abacus-1D\n",
    "exp_type = data_dir + 'temporal_abacus_1D_final'\n",
    "print('exp_type', exp_type)\n",
    "\n",
    "fig, ax = plt.subplots(figsize=(8,7))\n",
    "max_episode = 0\n",
    "all_token_positions = {i: [] for i in range(0,10)}\n",
    "\n",
    "token_positions_mean = {}\n",
    "token_positions_std = {}\n",
    "\n",
    "\n",
    "#exp_dir_list = os.listdir(exp_type)\n",
    "exp_dir_list = [d for d in os.listdir(exp_type) if os.path.isdir(os.path.join(exp_type, d))]\n",
    "\n",
    "\n",
    "for exp_dir in exp_dir_list:\n",
    "    master_episodes_file_dir = exp_type + '/' + exp_dir + '/ext_representations/external_representations.pkl'\n",
    "    with open(master_episodes_file_dir, 'rb') as f:\n",
    "        ext_repr = pickle.load(f)\n",
    "        token_positions = get_token_positions_of_reprs(ext_repr)\n",
    "    print(token_positions)\n",
    "    for i in range(len(token_positions)):\n",
    "        all_token_positions[i].append(token_positions[i]-token_positions[0])\n",
    "\n",
    "for i in all_token_positions.keys():\n",
    "    token_positions_mean[i] = np.mean(all_token_positions[i])#\n",
    "    token_positions_std[i] = np.std(all_token_positions[i])\n",
    "\n",
    "max_numbers = [k for k in all_token_positions.keys()]\n",
    "#episodes = [v for v in all_master_episodes_dict.values()]\n",
    "\n",
    "\n",
    "#master_episodes_mean = {i: master_episodes[i] for i in master_episodes_dict.keys()}\n",
    "print(all_token_positions)\n",
    "#for i in all_token_positions.keys():\n",
    "# ax.boxplot(all_token_positions.values(), showmeans=True, \n",
    "#                       meanprops={\"marker\":\"o\",\n",
    "#                        \"markerfacecolor\":\"black\", \n",
    "#                        \"markeredgecolor\":\"black\",\n",
    "#                       \"markersize\":\"10\"})\n",
    "\n",
    "for i in range(len(all_token_positions.keys())):\n",
    "    ax.scatter(len(all_token_positions[i])*[i], all_token_positions[i], color='black')\n",
    "\n",
    "#ax.boxplot(master_episodes_mean_dict)\n",
    "ax.set_xticklabels(all_token_positions.keys())\n",
    "#current_max = master_episodes_mean_dict[-1]\n",
    "#if(current_max>max_episode):\n",
    "#    max_episode = current_max\n",
    "#    ax.set_ylim(0, master_episodes_mean_dict[-1]+master_episodes_mean_dict[-1]//2)\n",
    "ax.set_xlabel('Presented number', fontsize=26)\n",
    "ax.set_ylabel('Position of token', fontsize=26)\n",
    "ax.tick_params(labelsize=20)\n",
    "file_path = exp_type + '/token_positions.svg'\n",
    "fig.savefig(file_path)"
   ]
  },
  {
   "cell_type": "code",
   "execution_count": 108,
   "id": "otherwise-afghanistan",
   "metadata": {},
   "outputs": [],
   "source": [
    "exp_type_list = ['temporal_final', 'temporal_abacus_1D_final', 'temporal_abacus_2D_final']\n",
    "nice_exp_type_dict = {'temporal_final': 'Temporal', \n",
    "                      'temporal_abacus_1D_final': 'Temporal+1D-constraints', \n",
    "                      'temporal_abacus_2D_final': 'Temporal+2D-constraints'}\n",
    "exp_type_dir_list = [data_dir + exp_type for exp_type in exp_type_list]"
   ]
  },
  {
   "cell_type": "code",
   "execution_count": 109,
   "id": "eastern-tablet",
   "metadata": {},
   "outputs": [
    {
     "data": {
      "image/png": "[encoded data removed]",
      "text/plain": [
       "<Figure size 576x504 with 1 Axes>"
      ]
     },
     "metadata": {
      "needs_background": "light"
     },
     "output_type": "display_data"
    }
   ],
   "source": [
    "### Plot Master-episodes for all setups and runs\n",
    "\n",
    "fig, ax = plt.subplots(figsize=(8,7))\n",
    "\n",
    "max_episode = 0\n",
    "\n",
    "for exp_type in exp_type_list:\n",
    "    exp_type_dir = data_dir + exp_type\n",
    "    exp_dir_list = os.listdir(exp_type_dir)\n",
    "    all_master_episodes_dict = {i: [] for i in range(1,10)}\n",
    "    master_episodes_mean_std = {i: [] for i in range(1,10)}\n",
    "\n",
    "    for exp_dir in exp_dir_list:\n",
    "        master_episodes_file_dir = exp_type_dir + '/' + exp_dir + '/master_episodes.pkl'\n",
    "        #print(master_episodes_file_dir)\n",
    "        if(os.path.exists(master_episodes_file_dir)):\n",
    "            with open(master_episodes_file_dir, 'rb') as f:\n",
    "                master_episodes = pickle.load(f)\n",
    "            for i in master_episodes.keys():\n",
    "                all_master_episodes_dict[i].append(master_episodes[i])\n",
    "            \n",
    "    \n",
    "    master_episodes_mean_dict = [np.mean(all_master_episodes_dict[i]) for i in all_master_episodes_dict.keys()]\n",
    "    master_episodes_mean_std = [np.std(all_master_episodes_dict[i]) for i in all_master_episodes_dict.keys()]\n",
    "\n",
    "    max_numbers = [k for k in all_master_episodes_dict.keys()]\n",
    "    #episodes = [v for v in all_master_episodes_dict.values()]\n",
    "    \n",
    "    \n",
    "    #master_episodes_mean = {i: master_episodes[i] for i in master_episodes_dict.keys()}\n",
    "    \n",
    "    ax.errorbar(range(1,10), \n",
    "                master_episodes_mean_dict, \n",
    "                yerr=master_episodes_mean_std, \n",
    "                solid_capstyle='projecting', \n",
    "                capsize=5,\n",
    "                label=nice_exp_type_dict[exp_type])\n",
    "    ax.legend(fontsize=16)\n",
    "    #ax.boxplot(master_episodes_mean_dict)\n",
    "    ax.set_xticks(max_numbers)\n",
    "    current_max = master_episodes_mean_dict[-1]\n",
    "    if(current_max>max_episode):\n",
    "        max_episode = current_max\n",
    "        ax.set_ylim(0, master_episodes_mean_dict[-1]+master_episodes_mean_dict[-1]//2)\n",
    "    ax.set_xlabel('Maximum number presented', fontsize=26)\n",
    "    ax.set_ylabel('Master Episode', fontsize=26)\n",
    "    ax.tick_params(labelsize=20)\n",
    "    file_path = data_dir + '/all_master_episodes.pdf'\n",
    "    fig.savefig(file_path)"
   ]
  },
  {
   "cell_type": "code",
   "execution_count": 18,
   "id": "hawaiian-football",
   "metadata": {},
   "outputs": [
    {
     "data": {
      "text/plain": [
       "array([ 1, -1, -1,  1])"
      ]
     },
     "execution_count": 18,
     "metadata": {},
     "output_type": "execute_result"
    }
   ],
   "source": [
    "a = np.array([1, 0, 0, 1])\n",
    "2*a-1"
   ]
  },
  {
   "cell_type": "code",
   "execution_count": 100,
   "id": "downtown-raising",
   "metadata": {},
   "outputs": [
    {
     "name": "stdout",
     "output_type": "stream",
     "text": [
      "/home/silvester/programming/rl-single-agent-numbers/remote/counting-agents/src/../data/temporal_final/temporal_final_external_repr_correlation.svg\n"
     ]
    },
    {
     "data": {
      "image/png": "[encoded data removed]",
      "text/plain": [
       "<Figure size 1152x1008 with 2 Axes>"
      ]
     },
     "metadata": {
      "needs_background": "light"
     },
     "output_type": "display_data"
    }
   ],
   "source": [
    "# collect all master-episodes and correlation matrices from each folder\n",
    "#for exp_type in exp_type_list:\n",
    "\n",
    "#exp_type = 'static_final'\n",
    "exp_type = 'temporal_final'\n",
    "#exp_type = 'temporal_abacus_1D_final'\n",
    "#exp_type = 'temporal_abacus_2D_final'\n",
    "\n",
    "exp_type_dir = data_dir + exp_type\n",
    "\n",
    "\n",
    "def get_avg_corr_matrix(exp_type):\n",
    "    corr_matrix_list = []\n",
    "    master_episodes_list = []\n",
    "\n",
    "    exp_dir_list = os.listdir(exp_type)\n",
    "\n",
    "    for exp_dir in exp_dir_list:\n",
    "        master_episodes_file_dir = exp_type + '/' + exp_dir + '/master_episodes.pkl'\n",
    "        if(os.path.exists(master_episodes_file_dir)):\n",
    "            with open(master_episodes_file_dir, 'rb') as f:\n",
    "                master_episodes = pickle.load(f)\n",
    "            if(max(master_episodes.keys()) == 9):\n",
    "                ext_repr_file_dir = exp_type + '/' + exp_dir + '/ext_representations/external_representations.pkl'\n",
    "                with open(ext_repr_file_dir, 'rb') as f:\n",
    "                    ext_repr = pickle.load(f)\n",
    "                corr_matrix = create_external_repr_correlation_matrix(ext_repr)\n",
    "                \n",
    "                corr_matrix_list.append(corr_matrix)\n",
    "                #print(corr_matrix)\n",
    "    \n",
    "    corr_matrix = np.mean(corr_matrix_list, axis=0)\n",
    "    \n",
    "    \n",
    "    return corr_matrix\n",
    "\n",
    "corr_matrix = get_avg_corr_matrix(exp_type_dir)\n",
    "file_path = exp_type_dir + '/' + exp_type + '_external_repr_correlation.svg'\n",
    "plot_external_repr_correlation(corr_matrix, task_description='', file_path=file_path)\n",
    "    "
   ]
  },
  {
   "cell_type": "code",
   "execution_count": 101,
   "id": "different-triangle",
   "metadata": {},
   "outputs": [],
   "source": [
    "\n",
    "def plot_and_save_master_episodes(master_episodes, file_path):\n",
    "    max_numbers = [k for k in master_episodes]\n",
    "    episodes = [v for v in master_episodes.values()]\n",
    "    fig, ax = plt.subplots(figsize=(16,14))\n",
    "    ax.scatter(max_numbers, episodes, s=100, color='black')\n",
    "    ax.set_xticks(max_numbers)\n",
    "    ax.set_ylim(0, episodes[-1]+episodes[-1]//10)\n",
    "    ax.set_xlabel('Maximum number presented', fontsize=26)\n",
    "    ax.set_ylabel('Master Episode', fontsize=26)\n",
    "    ax.tick_params(labelsize=20)\n",
    "    fig.savefig(file_path)\n",
    "\n",
    "# If ext_tool==Abacus: calculate spatial structure:\n",
    "# position of token correlate with the presented number\n",
    "def get_token_positions_of_reprs(ext_repr):\n",
    "    one_repr_for_each_number = [repr[0] for repr in ext_repr.values()]\n",
    "    numbers = [k for k,v in ext_repr.items()]\n",
    "    repr_size = ext_repr[0][0].size\n",
    "    pos_of_token_for_each_number = [np.where(repry == 1)[0][0] for repry in one_repr_for_each_number]\n",
    "    \n",
    "    return pos_of_token_for_each_number\n",
    "\n",
    "def plot_token_position_of_reprs(numbrs, pos_of_token_for_each_number, yerr=None,file_path=None):\n",
    "    fig, ax = plt.subplots(figsize=(16,14))\n",
    "    ax.errorbar(numbers, pos_of_token_for_each_number, yerr=yerr, s=100, color='black')\n",
    "    ax.set_xticks(numbers)\n",
    "    ax.set_yticks(range(repr_size))\n",
    "    #ax.set_ylim(0, episodes[-1]+episodes[-1]//10)\n",
    "    ax.set_xlabel('Presented number', fontsize=26)\n",
    "    ax.set_ylabel('Position of token', fontsize=26)\n",
    "    ax.tick_params(labelsize=20)\n",
    "    fig.savefig(file_path)\n",
    "    \n",
    "def create_external_repr_correlation_matrix(ext_repr):\n",
    "\n",
    "    numbers = list(ext_repr.keys())\n",
    "    max_objects = numbers[-1]\n",
    "    first,second = max_objects, max_objects\n",
    "    var_len = first\n",
    "    range_var_len = range(var_len)\n",
    "    combined = [(f,s) for f in numbers for s in numbers]\n",
    "\n",
    "    \n",
    "    corr_matrix_list = []\n",
    "    for example_i in range(5):\n",
    "        corr_matrix = np.empty([var_len+1,var_len+1])\n",
    "        for (i,j) in combined: \n",
    "            vec1 = 2*np.array(ext_repr[i][example_i] )-1  #2*x-1 (binary to bipolar)\n",
    "            vec2 = 2*np.array(ext_repr[j][example_i] )-1\n",
    "            vec1 = vec1 + np.random.normal(0, .01, vec1.shape)\n",
    "            vec2 = vec2 + np.random.normal(0, .01, vec2.shape)\n",
    "            vec3 = np.stack([vec1, vec2])[:, :, 0]\n",
    "            corry = np.corrcoef(vec3)[0, 1]\n",
    "            #corry = np.cov(vec3)[0, 1]\n",
    "            #if(math.isnan(corry)):\n",
    "                #print('vec1: ', vec1)\n",
    "                #print('vec2: ', vec2)\n",
    "            #    corry=0\n",
    "            corr_matrix[i,j] = corry\n",
    "        corr_matrix_list.append(corr_matrix)\n",
    "    corr_matrix = np.mean(corr_matrix_list, axis=0)\n",
    "\n",
    "    return corr_matrix\n",
    "        \n",
    "def plot_external_repr_correlation(corr_matrix, task_description, file_path=None):\n",
    "    fig, ax = plt.subplots(figsize=(16,14))\n",
    "    title=task_description \n",
    "    max_objects = corr_matrix[0].size-1\n",
    "    tick_labels = [str(i) for i in range(0,max_objects+1)] #later all keys in DICT of ext_representation\n",
    "    if(ax is None):\n",
    "        ax = plt.axes()\n",
    "    sb.heatmap(corr_matrix, \n",
    "                xticklabels=tick_labels,\n",
    "                yticklabels=tick_labels,\n",
    "                cmap='RdBu_r',\n",
    "                linewidth=0.5,\n",
    "                  ax=ax,\n",
    "              vmin=-0.2,\n",
    "              vmax=1.0,\n",
    "              annot=False)\n",
    "\n",
    "    ax.set_title(title, fontsize=40)\n",
    "    ax.set_xlabel('Presented number', fontsize=35)\n",
    "    ax.set_ylabel('Presented number', fontsize=35)\n",
    "    ax.tick_params(labelsize=35)\n",
    "    #file_path = exp_dir + '/ext_repr_correlation.svg'\n",
    "    \n",
    "    if(file_path is not None):\n",
    "        print(file_path)\n",
    "        fig.savefig(file_path)\n"
   ]
  },
  {
   "cell_type": "code",
   "execution_count": 50,
   "id": "identical-testament",
   "metadata": {},
   "outputs": [
    {
     "name": "stdout",
     "output_type": "stream",
     "text": [
      "[[1.00713801 1.0065299  0.99020305 1.0042711 ]\n",
      " [1.00618557 1.0084863  0.99492573 1.00993633]\n",
      " [0.99625905 1.01948152 0.99271889 1.00075647]\n",
      " [1.00718724 1.00348456 0.99635491 1.01447617]]\n"
     ]
    }
   ],
   "source": [
    "vec1 = np.ones((4,4))\n",
    "#vec2 = vec1 + np.ones(vec1.shape)*0.2\n",
    "vec2  = vec1 + np.random.normal(0, .01, vec1.shape)\n",
    "print(vec2)"
   ]
  },
  {
   "cell_type": "code",
   "execution_count": 53,
   "id": "successful-lebanon",
   "metadata": {},
   "outputs": [
    {
     "name": "stdout",
     "output_type": "stream",
     "text": [
      "(2, 9)\n",
      "1.0\n"
     ]
    }
   ],
   "source": [
    "vec1 = np.array(ext_repr[2][0] )\n",
    "vec2 = np.array(ext_repr[2][0] )\n",
    "vec3 = np.stack([vec1, vec2])[:, :, 0]\n",
    "print(vec3.shape)\n",
    "corry = np.corrcoef(vec3)[0, 1]\n",
    "\n",
    "#print(vec1)\n",
    "#print(vec2)\n",
    "print(corry)"
   ]
  },
  {
   "cell_type": "code",
   "execution_count": 13,
   "id": "written-portrait",
   "metadata": {},
   "outputs": [
    {
     "data": {
      "image/png": "[encoded data removed]",
      "text/plain": [
       "<Figure size 1152x1008 with 2 Axes>"
      ]
     },
     "metadata": {
      "needs_background": "light"
     },
     "output_type": "display_data"
    }
   ],
   "source": [
    "exp_dir = '/home/silvester/programming/rl-single-agent-numbers/remote/counting-agents/data/static_1/classify_WriteCoord_spatial_1_to_9_22-09-2021_18-33-16'\n",
    "#exp_dir = '/home/silvester/programming/rl-single-agent-numbers/remote/counting-agents/data/temporal_1/classify_WriteCoord_temporal_1_to_9_22-09-2021_18-33-16'\n",
    "#exp_dir = '/home/silvester/programming/rl-single-agent-numbers/remote/counting-agents/data/temporal_abacus_1D_1/classify_Abacus_temporal_1_to_9_22-09-2021_18-33-16'\n",
    "#exp_dir = '/home/silvester/programming/rl-single-agent-numbers/remote/counting-agents/data/temporal_abacus_2D_1/classify_Abacus_temporal_1_to_9_22-09-2021_18-33-16'\n",
    "\n",
    "\n",
    "# Load external representations\n",
    "file_dir = exp_dir + '/ext_representations/external_representations.pkl'\n",
    "with open(file_dir, 'rb') as f:\n",
    "    ext_repr = pickle.load(f)\n",
    "\n",
    "# Plot and save token positions of external representations if task == Abacus\n",
    "#file_path = exp_dir + '/token_positions.svg'\n",
    "#plot_and_save_token_positions_of_reprs(ext_repr, file_path=file_path)\n",
    "\n",
    "# Plot and save correlations between the external representations\n",
    "file_path = exp_dir + '/ext_repr_correlation.svg'\n",
    "plot_and_save_external_repr_correlation(ext_repr, task_description='', file_path=file_path)\n",
    "\n",
    "\n",
    "\n"
   ]
  },
  {
   "cell_type": "code",
   "execution_count": 155,
   "id": "micro-vehicle",
   "metadata": {},
   "outputs": [
    {
     "data": {
      "image/png": "[encoded data removed]",
      "text/plain": [
       "<Figure size 576x504 with 1 Axes>"
      ]
     },
     "metadata": {
      "needs_background": "light"
     },
     "output_type": "display_data"
    },
    {
     "data": {
      "image/png": "[encoded data removed]",
      "text/plain": [
       "<Figure size 576x504 with 1 Axes>"
      ]
     },
     "metadata": {
      "needs_background": "light"
     },
     "output_type": "display_data"
    },
    {
     "data": {
      "image/png": "[encoded data removed]",
      "text/plain": [
       "<Figure size 1152x1008 with 2 Axes>"
      ]
     },
     "metadata": {
      "needs_background": "light"
     },
     "output_type": "display_data"
    }
   ],
   "source": [
    "# Get example representations from right directory\n",
    "#exp_dir = data_dir + 'classify_Abacus_temporal_2_to_9_20-09-2021_16-04-37'\n",
    "#exp_dir = data_dir + 'classify_WriteCoord_temporal_2_to_9_21-09-2021_14-08-22'\n",
    "#exp_dir = data_dir + 'classify_WriteCoord_temporal_1_to_2_21-09-2021_19-09-56'\n",
    "#exp_dir = data_dir + 'static_1/classify_Abacus_temporal_1_to_2_22-09-2021_16-44-32'\n",
    "#exp_dir = data_dir + 'static_1/classify_Abacus_temporal_1_to_2_22-09-2021_16-44-32'\n",
    "\n",
    "exp_dir = data_dir + 'static_1/classify_WriteCoord_spatial_1_to_9_22-09-2021_18-33-16'\n",
    "\n",
    "# Load master episodes\n",
    "file_dir = exp_dir + '/master_episodes.pkl'\n",
    "with open(file_dir, 'rb') as f:\n",
    "    master_episodes = pickle.load(f)\n",
    "    \n",
    "# Plot and save master episodes\n",
    "file_path = exp_dir + '/master_episodes.svg'\n",
    "plot_and_save_master_episodes(master_episodes, file_path)\n",
    "\n",
    "\n",
    "# Load external representations\n",
    "file_dir = exp_dir + '/ext_representations/external_representations.pkl'\n",
    "with open(file_dir, 'rb') as f:\n",
    "    ext_repr = pickle.load(f)\n",
    "\n",
    "# Plot and save token positions of external representations if task == Abacus\n",
    "file_path = exp_dir + '/token_positions.svg'\n",
    "plot_and_save_token_positions_of_reprs(ext_repr, file_path=file_path)\n",
    "\n",
    "# Plot and save correlations between the external representations\n",
    "file_path = exp_dir + '/ext_repr_correlation.svg'\n",
    "plot_and_save_external_repr_correlation(ext_repr, task_description='Abacus', file_path=file_path)"
   ]
  },
  {
   "cell_type": "code",
   "execution_count": null,
   "id": "weighted-shoulder",
   "metadata": {},
   "outputs": [],
   "source": [
    "def get_correlation_matrix(df_test,within_class,within_class_instance,check_class,layer,plot=False,ax=None ):\n",
    "    first,second=df_test[check_class].unique(),df_test[check_class].unique()\n",
    "    var_len = len(first)\n",
    "    range_var_len = range(var_len)\n",
    "\n",
    "    combined = [(f,s) for f in range_var_len for s in range_var_len]\n",
    "\n",
    "    corr_matrix = np.empty([var_len,var_len ])\n",
    "    for (i,j) in combined: \n",
    "        i_class_instance=df_test[check_class].unique()[i]\n",
    "        j_class_instance=df_test[check_class].unique()[j]\n",
    "        try:\n",
    "            vec1 = get_node_activity_vector(df_test, within_class, within_class_instance, check_class, i_class_instance, layer).values[0]\n",
    "        except IndexError:\n",
    "            print(within_class, within_class_instance, check_class, i_class_instance, layer)\n",
    "        vec2 = get_node_activity_vector(df_test, within_class, within_class_instance, check_class, j_class_instance, layer).values[0]\n",
    "        #corry = df_test[(df_test[within_class]==within_class_instance) & (df_test[check_class]==i_class_instance) & (df_test['layer']==layer)].node_activities.corr(df_test[(df_test[within_class]==within_class_instance) & (df_test[check_class]==j_class_instance) & (df_test['layer']==layer)].node_activities, method='pearson')\n",
    "        corry = np.corrcoef(vec1, vec2)[0, 1]\n",
    "        corr_matrix[i,j] = corry\n",
    "    \n",
    "        \n",
    "    title=task_description \n",
    "    tick_labels = df_test[check_class].unique()\n",
    "    if(ax is None):\n",
    "        ax = plt.axes()\n",
    "    sb.heatmap(corr_matrix, \n",
    "                xticklabels=tick_labels,\n",
    "                yticklabels=tick_labels,\n",
    "                cmap='RdBu_r',\n",
    "                linewidth=0.5,\n",
    "                  ax=ax,\n",
    "              vmin=-0.2,\n",
    "              vmax=1.0,\n",
    "              annot=False)\n",
    "\n",
    "    ax.set_title(title)\n",
    "    \n",
    "    \n",
    "    return corr_matrix"
   ]
  },
  {
   "cell_type": "code",
   "execution_count": 3,
   "id": "fuzzy-silly",
   "metadata": {},
   "outputs": [
    {
     "name": "stdout",
     "output_type": "stream",
     "text": [
      "Working with max  3  objects\n"
     ]
    },
    {
     "data": {
      "image/png": "[encoded data removed]",
      "text/plain": [
       "<PIL.Image.Image image mode=RGB size=1530x124 at 0x7F415DF8E910>"
      ]
     },
     "metadata": {},
     "output_type": "display_data"
    }
   ],
   "source": [
    "##############\n",
    "## Static Environment Image\n",
    "###################\n",
    "\n",
    "obs_ext_shape = (4,1)\n",
    "agent_params = {\n",
    "    'single_or_multi_agent': 'multi',\n",
    "    'task': 'classify',\n",
    "    'external_repr_tool': 'WriteCoord',\n",
    "    'observation': 'spatial',\n",
    "    'max_objects': 3,\n",
    "    'obs_shape': obs_ext_shape,\n",
    "    'ext_shape': obs_ext_shape,\n",
    "    'max_episode_length': 8,\n",
    "    'curriculum_learning': False\n",
    "}\n",
    "\n",
    "\n",
    "\n",
    "if(agent_params['single_or_multi_agent'] == 'multi'):\n",
    "    env = MultiAgentEnvironment(agent_params)\n",
    "    env.agents[0].check_reward = False\n",
    "if(agent_params['single_or_multi_agent'] == 'single'):\n",
    "    env = SingleRLAgent(agent_params)\n",
    "    env.check_reward = False\n",
    "    \n",
    "#env.max_episode_length = 7\n",
    "#env.reset()\n",
    "display(env.render(), display_id='model_demo')\n",
    "env.step(['down', 'write_on_2'])\n",
    "update_display(env.render(), display_id='model_demo')"
   ]
  },
  {
   "cell_type": "code",
   "execution_count": 55,
   "id": "moral-terry",
   "metadata": {},
   "outputs": [
    {
     "data": {
      "image/png": "[encoded data removed]",
      "text/plain": [
       "<Figure size 1080x1080 with 8 Axes>"
      ]
     },
     "metadata": {},
     "output_type": "display_data"
    }
   ],
   "source": [
    "##############\n",
    "## Plot grid of hand-crafted external representations\n",
    "##########################################\n",
    "\n",
    "\n",
    "##############\n",
    "## Dynamic Environment Demo with Sequence of Actions\n",
    "###################\n",
    "\n",
    "\n",
    "agent_params = {\n",
    "    'single_or_multi_agent': 'single',\n",
    "    'task': 'classify',\n",
    "    'external_repr_tool': 'Abacus',\n",
    "    'observation': 'temporal',\n",
    "    'max_objects': 2,\n",
    "    'obs_dim': 4,\n",
    "    'obs_shape': (4,4),\n",
    "    'ext_shape': (4,4),\n",
    "    'IsSubmitButton': False,\n",
    "    'max_episode_length': 8,\n",
    "    'curriculum_learning': False\n",
    "}\n",
    "\n",
    "\n",
    "\n",
    "if(agent_params['single_or_multi_agent'] == 'multi'):\n",
    "    env = MultiAgentEnvironment(agent_params)\n",
    "    env.agents[0].check_reward = False\n",
    "if(agent_params['single_or_multi_agent'] == 'single'):\n",
    "    env = SingleRLAgent(agent_params)\n",
    "    env.check_reward = False\n",
    "#env.max_episode_length = 7\n",
    "env.reset()\n",
    "#display(env.render(), display_id='model_demo')\n",
    "grid_width = 4\n",
    "grid_height = 2\n",
    "fig, axs = plt.subplots(grid_height, grid_width,figsize=(15,15))\n",
    "fig.tight_layout()\n",
    "j_repr = -1\n",
    "    \n",
    "for i in range(agent_params['max_episode_length']+2):\n",
    "    #env.step(['right', 'mod_point'])\n",
    "    moved_token = True\n",
    "    if(i==3 or i==7):\n",
    "        env.step(env.all_actions_dict_inv['down'])\n",
    "        moved_token = False\n",
    "    else:\n",
    "        env.step(env.all_actions_dict_inv['move_token_right'])\n",
    "        j_repr += 1\n",
    "    #update_display(env.render(), display_id='model_demo')\n",
    "    #time.sleep(3)\n",
    "    if(moved_token):\n",
    "        img = env.render()\n",
    "        ax = axs[j_repr//grid_width, j_repr%grid_width]\n",
    "        ax.imshow(env.ext_repr_img)\n",
    "        ax.set_xticks([])\n",
    "        ax.set_yticks([])\n",
    "        ax.set_title(str(j_repr+1), fontsize=34)\n",
    "    \n",
    "\n",
    "plt.subplots_adjust(hspace=0)\n",
    "    \n",
    "    "
   ]
  },
  {
   "cell_type": "code",
   "execution_count": 62,
   "id": "sharing-hundred",
   "metadata": {},
   "outputs": [
    {
     "data": {
      "image/png": "[encoded data removed]",
      "text/plain": [
       "<Figure size 1080x1080 with 8 Axes>"
      ]
     },
     "metadata": {},
     "output_type": "display_data"
    }
   ],
   "source": [
    "env.reset()\n",
    "#display(env.render(), display_id='model_demo')\n",
    "grid_width = 4\n",
    "grid_height = 2\n",
    "fig, axs = plt.subplots(grid_height, grid_width,figsize=(15,15))\n",
    "fig.tight_layout()\n",
    "\n",
    "mv_str = 'move_token_right'\n",
    "action_list = [mv_str, mv_str, mv_str, mv_str, 'down', mv_str, 'up', mv_str, mv_str, mv_str, mv_str]\n",
    "j_repr = -1\n",
    "    \n",
    "for i in range(agent_params['max_episode_length']+3):\n",
    "    #env.step(['right', 'mod_point'])\n",
    "    env.step(env.all_actions_dict_inv[action_list[i]])\n",
    "    #update_display(env.render(), display_id='model_demo')\n",
    "    #time.sleep(3)\n",
    "    if(action_list[i]==mv_str and i!=3):\n",
    "        j_repr += 1\n",
    "        img = env.render()\n",
    "        ax = axs[j_repr//grid_width, j_repr%grid_width]\n",
    "        ax.imshow(env.ext_repr_img)\n",
    "        ax.set_xticks([])\n",
    "        ax.set_yticks([])\n",
    "        ax.set_title(str(j_repr+1), fontsize=34)\n",
    "    \n",
    "\n",
    "plt.subplots_adjust(hspace=0)"
   ]
  },
  {
   "cell_type": "code",
   "execution_count": 24,
   "id": "romantic-beauty",
   "metadata": {},
   "outputs": [],
   "source": [
    "env.step(['move_token_right', 'move_token_right'])\n",
    "update_display(env.render(), display_id='model_demo')"
   ]
  },
  {
   "cell_type": "code",
   "execution_count": 18,
   "id": "adopted-effectiveness",
   "metadata": {
    "collapsed": true
   },
   "outputs": [
    {
     "ename": "KeyError",
     "evalue": "'Agent_Setup'",
     "output_type": "error",
     "traceback": [
      "\u001b[0;31m---------------------------------------------------------------------------\u001b[0m",
      "\u001b[0;31mKeyError\u001b[0m                                  Traceback (most recent call last)",
      "\u001b[0;32m~/programming/rl-single-agent-numbers/counting-agents/src/MultiAgentEnvironment.py\u001b[0m in \u001b[0;36m<module>\u001b[0;34m\u001b[0m\n\u001b[1;32m    104\u001b[0m     }\n\u001b[1;32m    105\u001b[0m \u001b[0;34m\u001b[0m\u001b[0m\n\u001b[0;32m--> 106\u001b[0;31m     \u001b[0magent\u001b[0m \u001b[0;34m=\u001b[0m \u001b[0mMultiAgentEnvironment\u001b[0m\u001b[0;34m(\u001b[0m\u001b[0magent_params\u001b[0m\u001b[0;34m)\u001b[0m\u001b[0;34m\u001b[0m\u001b[0;34m\u001b[0m\u001b[0m\n\u001b[0m\u001b[1;32m    107\u001b[0m     \u001b[0magent\u001b[0m\u001b[0;34m.\u001b[0m\u001b[0mrender\u001b[0m\u001b[0;34m(\u001b[0m\u001b[0;34m)\u001b[0m\u001b[0;34m\u001b[0m\u001b[0;34m\u001b[0m\u001b[0m\n\u001b[1;32m    108\u001b[0m \u001b[0;34m\u001b[0m\u001b[0m\n",
      "\u001b[0;32m~/programming/rl-single-agent-numbers/counting-agents/src/MultiAgentEnvironment.py\u001b[0m in \u001b[0;36m__init__\u001b[0;34m(self, params)\u001b[0m\n\u001b[1;32m     18\u001b[0m \u001b[0;34m\u001b[0m\u001b[0m\n\u001b[1;32m     19\u001b[0m         \u001b[0mself\u001b[0m\u001b[0;34m.\u001b[0m\u001b[0mparams\u001b[0m \u001b[0;34m=\u001b[0m \u001b[0mparams\u001b[0m\u001b[0;34m\u001b[0m\u001b[0;34m\u001b[0m\u001b[0m\n\u001b[0;32m---> 20\u001b[0;31m         \u001b[0mself\u001b[0m\u001b[0;34m.\u001b[0m\u001b[0mexperiment_specific_setup\u001b[0m \u001b[0;34m=\u001b[0m \u001b[0mAgentSetupDict\u001b[0m\u001b[0;34m[\u001b[0m\u001b[0mself\u001b[0m\u001b[0;34m.\u001b[0m\u001b[0mparams\u001b[0m\u001b[0;34m[\u001b[0m\u001b[0;34m'Agent_Setup'\u001b[0m\u001b[0;34m]\u001b[0m\u001b[0;34m]\u001b[0m\u001b[0;34m(\u001b[0m\u001b[0mself\u001b[0m\u001b[0;34m.\u001b[0m\u001b[0mparams\u001b[0m\u001b[0;34m)\u001b[0m\u001b[0;34m\u001b[0m\u001b[0;34m\u001b[0m\u001b[0m\n\u001b[0m\u001b[1;32m     21\u001b[0m \u001b[0;34m\u001b[0m\u001b[0m\n\u001b[1;32m     22\u001b[0m         \u001b[0mself\u001b[0m\u001b[0;34m.\u001b[0m\u001b[0mmax_objects\u001b[0m \u001b[0;34m=\u001b[0m \u001b[0mself\u001b[0m\u001b[0;34m.\u001b[0m\u001b[0mparams\u001b[0m\u001b[0;34m[\u001b[0m\u001b[0;34m'max_objects'\u001b[0m\u001b[0;34m]\u001b[0m\u001b[0;34m\u001b[0m\u001b[0;34m\u001b[0m\u001b[0m\n",
      "\u001b[0;31mKeyError\u001b[0m: 'Agent_Setup'"
     ]
    }
   ],
   "source": [
    "%run SingleAgent.py\n",
    "%run MultiAgentEnvironment.py\n",
    "%run utils.py"
   ]
  },
  {
   "cell_type": "code",
   "execution_count": 3,
   "id": "greater-landscape",
   "metadata": {},
   "outputs": [],
   "source": [
    "agent_params = {\n",
    "    'max_objects': 4,\n",
    "    'obs_dim': 4,\n",
    "}\n",
    "\n",
    "agent = SingleRLAgent(agent_params)"
   ]
  },
  {
   "cell_type": "code",
   "execution_count": 4,
   "id": "generous-spanking",
   "metadata": {},
   "outputs": [
    {
     "data": {
      "image/png": "[encoded data removed]",
      "text/plain": [
       "<PIL.Image.Image image mode=RGB size=990x250 at 0x7F55F7CBEAD0>"
      ]
     },
     "execution_count": 4,
     "metadata": {},
     "output_type": "execute_result"
    }
   ],
   "source": [
    "agent.render()"
   ]
  },
  {
   "cell_type": "code",
   "execution_count": 26,
   "id": "detailed-carroll",
   "metadata": {},
   "outputs": [],
   "source": [
    "def demonstrate_model(model, env, collect=False, eval=True, n_objects=None):\n",
    "    total_rewards = []\n",
    "    summed_rewards = 0\n",
    "\n",
    "    states = env.reset(n_objects)\n",
    "    states = torch.stack([torch.unsqueeze(ptu.from_numpy(state), dim=0) for state in states]).transpose(0,1)\n",
    "    t_sofar = 0\n",
    "    done = False\n",
    "\n",
    "    \n",
    "    actions_during_episode = []\n",
    "    img_list = []\n",
    "    img_list.append(env.render(display_id=\"model_demo\"))\n",
    "    time.sleep(2)\n",
    "\n",
    "    while not done:\n",
    "        t_sofar += 1\n",
    "        actions_tensors = model(states)\n",
    "        action_arr = [ptu.to_numpy(actions_tensor) for actions_tensor in actions_tensors]\n",
    "        actions = [np.argmax(action_arr[0], axis=1)[0], np.argmax(action_arr[1], axis=1)[0]]\n",
    "        actions_during_episode.append(actions)\n",
    "        next_states, reward, done, _ = env.step(actions)\n",
    "\n",
    "        # Convert numpy objects to tensors for saving in memory\n",
    "        reward = torch.tensor([ptu.from_numpy(np.array(reward))])\n",
    "        actions = torch.stack([torch.unsqueeze(ptu.from_numpy(np.array(action)),dim=0) for action in actions])\n",
    "        if next_states is not None:\n",
    "            next_states = torch.stack([torch.unsqueeze(ptu.from_numpy(next_state), dim=0) for next_state in next_states]).transpose(0,1)\n",
    "\n",
    "        # Move to the next state\n",
    "        states = next_states\n",
    "\n",
    "\n",
    "        if done:\n",
    "            reward = reward.cpu().numpy().item()\n",
    "            summed_rewards += reward\n",
    "            total_rewards.append(reward)\n",
    "\n",
    "        #if(eval and i_episode==0):\n",
    "        #    print(\"act \", t_sofar, \": \", actions)\n",
    "        print(actions)\n",
    "        img_list.append(env.render(display_id=\"model_demo\"))\n",
    "        time.sleep(2)\n",
    "    return img_list\n",
    "\n"
   ]
  },
  {
   "cell_type": "code",
   "execution_count": null,
   "id": "competitive-darkness",
   "metadata": {},
   "outputs": [],
   "source": [
    "# Define Environment (2-Agents)\n",
    "\n",
    "agent_params = {\n",
    "    'max_objects': 2,\n",
    "    'obs_dim': 4,\n",
    "    'max_episode_length': 1,\n",
    "}\n",
    "\n",
    "# agent_params = {\n",
    "#     'max_objects': 3,\n",
    "#     'obs_dim': 4,\n",
    "#     'max_episode_length': 3,\n",
    "# }\n",
    "\n",
    "agent_params = {\n",
    "    'max_objects': 4,\n",
    "    'obs_dim': 4,\n",
    "    'max_episode_length': 5,\n",
    "}\n",
    "\n",
    "agent_params = {\n",
    "    'max_objects': 9,\n",
    "    'obs_dim': 4,\n",
    "    'max_episode_length': 7,\n",
    "}\n",
    "\n",
    "agent_params = {\n",
    "    'max_objects': 8,\n",
    "    'obs_dim': 4,\n",
    "    'max_episode_length': 8,\n",
    "    'observation': 'spatial'\n",
    "}\n",
    "\n",
    "\n",
    "\n",
    "\n",
    "obs_ext_shape = (9,1)\n",
    "\n",
    "agent_params = {\n",
    "    'max_objects': 8,\n",
    "    'obs_shape': obs_ext_shape,\n",
    "    'ext_shape': obs_ext_shape,\n",
    "    'max_episode_length': 8,\n",
    "    'observation': 'spatial',\n",
    "    'single_or_multi_agent': 'multi',\n",
    "    'external_repr_tool': 'WriteCoord'\n",
    "}"
   ]
  },
  {
   "cell_type": "code",
   "execution_count": 30,
   "id": "stable-program",
   "metadata": {},
   "outputs": [
    {
     "name": "stdout",
     "output_type": "stream",
     "text": [
      "Working with max  2  objects\n"
     ]
    },
    {
     "data": {
      "image/png": "[encoded data removed]",
      "text/plain": [
       "<PIL.Image.Image image mode=RGB size=1530x124 at 0x7F415DF8E910>"
      ]
     },
     "metadata": {},
     "output_type": "display_data"
    },
    {
     "name": "stdout",
     "output_type": "stream",
     "text": [
      "tensor([[4.],\n",
      "        [4.]])\n",
      "tensor([[1.],\n",
      "        [1.]])\n",
      "tensor([[1.],\n",
      "        [1.]])\n"
     ]
    }
   ],
   "source": [
    "\n",
    "\n",
    "model_dir = data_dir + 'classify_WriteCoord_spatial_2_to_3_16-08-2021_15-37-38/'\n",
    "params_file = model_dir + 'params.pickle'\n",
    "model_file = model_dir + 'best_model.pt'\n",
    "\n",
    "with open(params_file, 'rb') as f:\n",
    "    agent_params = pickle.load(f)['agent_params']\n",
    "\n",
    "agent_params['max_objects'] = 2\n",
    "\n",
    "\n",
    "env = MultiAgentEnvironment(agent_params)\n",
    "#env.max_episode_length = 7\n",
    "env.reset()\n",
    "ext_shape = env.agents[0].ext_shape\n",
    "dimmy = 1 if ext_shape[1] == 1 else 2\n",
    "    \n",
    "display(env.render(), display_id='model_demo')\n",
    "\n",
    "n_channels, screen_height, screen_width  = env.states[0].shape  # Assumes that all agents have same state-dim as agent[0]\n",
    "n_actions = env.agents[0].action_dim\n",
    "#model = N_Concat_CNNs(n_channels, n_actions, shared_policy=False)\n",
    "model = N_Concat_CNNs(n_channels, n_actions, shared_policy=True, example_input = env.states, dim=dimmy)\n",
    "# Successful 2\n",
    "#model.load_state_dict(torch.load('/home/silvester/programming/rl-communicating-numbers/counting-agents/src/../data/TODO_30-04-2021_16-16-33/model.pt'))\n",
    "# Successful 3\n",
    "#model.load_state_dict(torch.load('/home/silvester/programming/rl-communicating-numbers/counting-agents/src/../data/TODO_03-05-2021_11-34-15/model.pt'))\n",
    "# Successful 4\n",
    "#model.load_state_dict(torch.load('/home/silvester/programming/rl-communicating-numbers/counting-agents/src/../data/TODO_03-05-2021_13-03-38/model.pt'))\n",
    "# almost - Successful 5\n",
    "#model.load_state_dict(torch.load('/home/silvester/programming/rl-communicating-numbers/counting-agents/src/../data/TODO_03-05-2021_14-22-02/model.pt'))\n",
    "# 60 % for 9\n",
    "#model.load_state_dict(torch.load('/home/silvester/programming/rl-communicating-numbers/counting-agents/src/../data/TODO_04-05-2021_13-36-48/model.pt'))\n",
    "# 82 % for 9\n",
    "#model.load_state_dict(torch.load('/home/silvester/programming/rl-communicating-numbers/counting-agents/src/../data/TODO_04-05-2021_22-08-07/model.pt'))\n",
    "# Classify to 5 82 %\n",
    "#model.load_state_dict(torch.load('/home/silvester/programming/rl-communicating-numbers/counting-agents/src/../data/TODO_05-05-2021_18-37-48/model.pt'))\n",
    "# Classify to 5 95 %\n",
    "#model.load_state_dict(torch.load('/home/silvester/programming/rl-communicating-numbers/counting-agents/src/../data/TODO_07-05-2021_11-03-33/model.pt'))\n",
    "# even more: TODO_07-05-2021_11-32-52\n",
    "# Reproduce up til 8 objects: \n",
    "#model.load_state_dict(torch.load('/home/silvester/programming/rl-communicating-numbers/counting-agents/src/../data/TODO_11-05-2021_11-30-16/model.pt'))\n",
    "model.load_state_dict(torch.load(model_file), strict=False)\n",
    "\n",
    "\n",
    "\n",
    "\n",
    "img_list = demonstrate_model(model, env, n_objects=[2,3])"
   ]
  },
  {
   "cell_type": "code",
   "execution_count": 38,
   "id": "close-logistics",
   "metadata": {},
   "outputs": [
    {
     "name": "stdout",
     "output_type": "stream",
     "text": [
      "[[1. 1. 0. 1.]\n",
      " [1. 0. 0. 1.]\n",
      " [0. 0. 0. 1.]\n",
      " [1. 0. 0. 1.]]\n",
      "8.0\n"
     ]
    }
   ],
   "source": [
    "a = np.zeros((4, 4))\n",
    "a.ravel()[np.random.choice(4*4, 8, replace=False)] = 1\n",
    "print(a)\n",
    "print(a.sum())"
   ]
  },
  {
   "cell_type": "code",
   "execution_count": 135,
   "id": "configured-marine",
   "metadata": {},
   "outputs": [
    {
     "data": {
      "text/plain": [
       "3"
      ]
     },
     "execution_count": 135,
     "metadata": {},
     "output_type": "execute_result"
    }
   ],
   "source": [
    "test_dict = {\n",
    "    0: '0',\n",
    "    1: '1',\n",
    "    2: '2',\n",
    "}\n",
    "len(test_dict)"
   ]
  },
  {
   "cell_type": "code",
   "execution_count": 56,
   "id": "everyday-customer",
   "metadata": {},
   "outputs": [
    {
     "data": {
      "application/vnd.jupyter.widget-view+json": {
       "model_id": "dca32348f0d547ffbe54d87a776a3689",
       "version_major": 2,
       "version_minor": 0
      },
      "text/plain": [
       "interactive(children=(IntSlider(value=2, description='t', max=4), Output()), _dom_classes=('widget-interact',)…"
      ]
     },
     "metadata": {},
     "output_type": "display_data"
    }
   ],
   "source": [
    "interact(img_slider,t=(0, len(img_list)-1, 1));"
   ]
  },
  {
   "cell_type": "code",
   "execution_count": 70,
   "id": "contrary-extra",
   "metadata": {},
   "outputs": [],
   "source": [
    "imageio.mimsave('../results/animations/comparison_up_3_2_vs_3.gif', img_list, duration=2)"
   ]
  },
  {
   "cell_type": "code",
   "execution_count": 43,
   "id": "electronic-minister",
   "metadata": {},
   "outputs": [
    {
     "data": {
      "image/png": "[encoded data removed]",
      "text/plain": [
       "<PIL.Image.Image image mode=RGB size=990x500 at 0x7FF065F71F10>"
      ]
     },
     "metadata": {},
     "output_type": "display_data"
    }
   ],
   "source": [
    "def img_slider(t):\n",
    "    display(img_list[t], display_id=\"slider_display\")\n",
    "    \n",
    "img_slider(0)\n"
   ]
  },
  {
   "cell_type": "code",
   "execution_count": 5,
   "id": "announced-township",
   "metadata": {},
   "outputs": [
    {
     "data": {
      "image/png": "[encoded data removed]",
      "text/plain": [
       "<PIL.Image.Image image mode=RGB size=990x250 at 0x7F9BA4F4BC10>"
      ]
     },
     "execution_count": 5,
     "metadata": {},
     "output_type": "execute_result"
    }
   ],
   "source": [
    "action = 'left'\n",
    "agent.step(action)\n",
    "agent.render()"
   ]
  },
  {
   "cell_type": "code",
   "execution_count": 6,
   "id": "israeli-indie",
   "metadata": {},
   "outputs": [
    {
     "data": {
      "image/png": "[encoded data removed]",
      "text/plain": [
       "<PIL.Image.Image image mode=RGB size=990x250 at 0x7F9BA4F4BA10>"
      ]
     },
     "metadata": {},
     "output_type": "display_data"
    }
   ],
   "source": [
    "### Create a gif with sample actions\n",
    "import imageio\n",
    "import time\n",
    "\n",
    "agent_params = {\n",
    "    'max_objects': 4,\n",
    "    'obs_dim': 4,\n",
    "}\n",
    "\n",
    "agent = SingleRLAgent(agent_params)\n",
    "display(agent.render(), display_id=\"demo\")\n",
    "\n",
    "images = []\n",
    "images.append(agent.render())\n",
    "\n",
    "n_steps = 5\n",
    "for i in range(n_steps):\n",
    "    action = n_steps-i-1 #random.randint(0, agent.action_dim-1)\n",
    "    agent.step(action)\n",
    "    agent.render(display_id=\"demo\")\n",
    "    time.sleep(1)\n",
    "    #images.append(agent.render())\n",
    "#imageio.mimsave('env_demo_2.gif', images, fps=0.5)"
   ]
  },
  {
   "cell_type": "code",
   "execution_count": 3,
   "id": "floppy-astronomy",
   "metadata": {},
   "outputs": [
    {
     "data": {
      "image/png": "[encoded data removed]",
      "text/plain": [
       "<PIL.Image.Image image mode=RGB size=990x500 at 0x7F47E1FB3A10>"
      ]
     },
     "execution_count": 3,
     "metadata": {},
     "output_type": "execute_result"
    }
   ],
   "source": [
    "### Create a gif with sample actions\n",
    "import imageio\n",
    "import time\n",
    "\n",
    "agent_params = {\n",
    "    'max_objects': 4,\n",
    "    'obs_dim': 4,\n",
    "}\n",
    "\n",
    "agent = MultiAgentEnvironment(agent_params)\n",
    "agent.render()\n",
    "\n",
    "# images = []\n",
    "# images.append(agent.render())\n",
    "\n",
    "# n_steps = 5\n",
    "# for i in range(n_steps):\n",
    "#     action = n_steps-i-1 #random.randint(0, agent.action_dim-1)\n",
    "#     agent.step(action)\n",
    "#     plt.show(agent.render(display_id=\"demo\"))\n",
    "#     time.sleep(1)\n",
    "#     images.append(agent.render())"
   ]
  },
  {
   "cell_type": "code",
   "execution_count": 11,
   "id": "double-grave",
   "metadata": {},
   "outputs": [
    {
     "data": {
      "image/png": "[encoded data removed]",
      "text/plain": [
       "<PIL.Image.Image image mode=RGB size=780x500 at 0x7FFA04443110>"
      ]
     },
     "metadata": {},
     "output_type": "display_data"
    },
    {
     "name": "stdout",
     "output_type": "stream",
     "text": [
      "Reward:  0\n",
      "Done:  True\n"
     ]
    }
   ],
   "source": [
    "_, reward, done, _ = agent.step(['left', 'left'])\n",
    "display(agent.render(), display_id='game')\n",
    "print(\"Reward: \", reward)\n",
    "print(\"Done: \", done)"
   ]
  },
  {
   "cell_type": "code",
   "execution_count": 9,
   "id": "decimal-bloom",
   "metadata": {},
   "outputs": [
    {
     "data": {
      "image/png": "[encoded data removed]",
      "text/plain": [
       "<PIL.Image.Image image mode=RGB size=990x500 at 0x7F9BA4F0E5D0>"
      ]
     },
     "metadata": {},
     "output_type": "display_data"
    },
    {
     "name": "stdout",
     "output_type": "stream",
     "text": [
      "Reward:  0\n",
      "Done:  False\n",
      "Reward:  0\n",
      "Done:  False\n",
      "Reward:  1\n",
      "Done:  True\n"
     ]
    }
   ],
   "source": [
    "action_list = [['left', 'left'], ['smaller', 'left'], ['left', 'larger']]\n",
    "display(agent.render(), display_id='multi_game')\n",
    "\n",
    "for action in action_list:\n",
    "    _, reward, done, _ = agent.step(action)\n",
    "    img = agent.render(display_id=\"multi_game\")\n",
    "    time.sleep(1)\n",
    "    print(\"Reward: \", reward)\n",
    "    print(\"Done: \", done)"
   ]
  },
  {
   "cell_type": "code",
   "execution_count": 14,
   "id": "middle-affairs",
   "metadata": {},
   "outputs": [],
   "source": [
    "action = ['mod_point', 'left']\n",
    "_, reward, done, _ = agent.step(action)\n",
    "img = agent.render(display_id=\"multi_game\")"
   ]
  },
  {
   "cell_type": "code",
   "execution_count": 48,
   "id": "russian-large",
   "metadata": {},
   "outputs": [
    {
     "name": "stdout",
     "output_type": "stream",
     "text": [
      "n_range:  [1 2 3]\n",
      "[1 2]\n"
     ]
    }
   ],
   "source": [
    "n_range = np.arange(1, 4+1)\n",
    "print(\"n_range: \", n_range)\n",
    "\n",
    "n_objects = np.random.choice(n_range, 2, replace=False)\n",
    "print(n_objects)"
   ]
  },
  {
   "cell_type": "code",
   "execution_count": 26,
   "id": "optical-frederick",
   "metadata": {},
   "outputs": [
    {
     "data": {
      "text/plain": [
       "3"
      ]
     },
     "execution_count": 26,
     "metadata": {},
     "output_type": "execute_result"
    }
   ],
   "source": [
    "env.max_episode_length"
   ]
  },
  {
   "cell_type": "code",
   "execution_count": 5,
   "id": "closed-translator",
   "metadata": {},
   "outputs": [],
   "source": []
  },
  {
   "cell_type": "code",
   "execution_count": 4,
   "id": "tracked-migration",
   "metadata": {},
   "outputs": [],
   "source": [
    "def funcy():\n",
    "    print(\"here we go\")\n",
    "\n",
    "def funcy2():\n",
    "    print(\"here we go 2\")\n",
    "    \n",
    "class ExperimentSetup():\n",
    "    def __init__(self, func_i):\n",
    "        \n",
    "        self.vari = 0\n",
    "        self.incry()\n",
    "        self.reward_funcy = func_i\n",
    "\n",
    "    def reward_function(self):\n",
    "        self.reward_funcy()\n",
    "    def env_update(self):\n",
    "        pass\n",
    "    def update_state(self):\n",
    "        state = np.stack([self.obs, self.fingerlayer.fingerlayer, self.ext_repr.externalrepresentation])\n",
    "        return state\n",
    "    \n",
    "    def incry(self):\n",
    "        self.vari += 1"
   ]
  },
  {
   "cell_type": "code",
   "execution_count": 3,
   "id": "leading-penny",
   "metadata": {},
   "outputs": [],
   "source": [
    "def iteraty():\n",
    "    l = 2\n",
    "    for i in range(10000000):\n",
    "        l += 1"
   ]
  },
  {
   "cell_type": "code",
   "execution_count": 4,
   "id": "behind-visit",
   "metadata": {},
   "outputs": [
    {
     "name": "stdout",
     "output_type": "stream",
     "text": [
      "         4 function calls in 0.392 seconds\n",
      "\n",
      "   Ordered by: standard name\n",
      "\n",
      "   ncalls  tottime  percall  cumtime  percall filename:lineno(function)\n",
      "        1    0.392    0.392    0.392    0.392 <ipython-input-3-ebc7f820c210>:1(iteraty)\n",
      "        1    0.000    0.000    0.392    0.392 <string>:1(<module>)\n",
      "        1    0.000    0.000    0.392    0.392 {built-in method builtins.exec}\n",
      "        1    0.000    0.000    0.000    0.000 {method 'disable' of '_lsprof.Profiler' objects}\n",
      "\n",
      "\n"
     ]
    }
   ],
   "source": [
    "import cProfile\n",
    "cProfile.run('iteraty()')"
   ]
  },
  {
   "cell_type": "code",
   "execution_count": 42,
   "id": "undefined-humor",
   "metadata": {},
   "outputs": [
    {
     "name": "stdout",
     "output_type": "stream",
     "text": [
      "3\n",
      "2\n",
      "2\n",
      "2\n",
      "2\n",
      "2\n"
     ]
    }
   ],
   "source": [
    "for n in range(6):\n",
    "    print(random.randint(2,3))"
   ]
  },
  {
   "cell_type": "code",
   "execution_count": 18,
   "id": "frequent-steering",
   "metadata": {},
   "outputs": [
    {
     "name": "stdout",
     "output_type": "stream",
     "text": [
      "event_timesteps:  [2, 3, 5, 7, 9]\n",
      "max_episode_length:  11\n"
     ]
    }
   ],
   "source": [
    "def calc_event_timesteps(n_objects):\n",
    "    big_timestep_range_from_n = 5\n",
    "    small_timestep_range = [1,2]\n",
    "    big_timestep_range = [2,3]\n",
    "    timestep_range = small_timestep_range\n",
    "\n",
    "    event_timesteps = []\n",
    "    t_n = 0\n",
    "\n",
    "    for n in range(1,n_objects+1):\n",
    "        if(n==big_timestep_range_from_n):\n",
    "            timestep_range = big_timestep_range\n",
    "        t_n += random.randint(timestep_range[0],timestep_range[1])\n",
    "        event_timesteps.append(t_n)\n",
    "        \n",
    "    return event_timesteps\n",
    "    \n",
    "def calc_max_episode_length(n_objects, observation):\n",
    "    if(observation == 'spatial'):\n",
    "        return 1*n_objects-1\n",
    "    elif(observation == 'temporal'):\n",
    "        #return 1*n_objects+1\n",
    "\n",
    "        big_timestep_range_from_n = 5\n",
    "        max_time_length = min(big_timestep_range_from_n - 1, n_objects) * 2\n",
    "        # + max(0,max_objects-big_timestep_range_from_n)*3\n",
    "        if (n_objects >= big_timestep_range_from_n):\n",
    "            max_time_length += (n_objects - big_timestep_range_from_n+1) * 3\n",
    "        return max_time_length\n",
    "    \n",
    "n_objects = 5\n",
    "event_timesteps = calc_event_timesteps(n_objects)\n",
    "max_episode_length = calc_max_episode_length(n_objects, observation='temporal')\n",
    "print(\"event_timesteps: \", event_timesteps)\n",
    "print(\"max_episode_length: \", max_episode_length)\n"
   ]
  },
  {
   "cell_type": "code",
   "execution_count": 20,
   "id": "thermal-identity",
   "metadata": {},
   "outputs": [
    {
     "name": "stdout",
     "output_type": "stream",
     "text": [
      "{1: [], 2: [], 3: [], 4: []}\n",
      "{1: [5], 2: [], 3: [], 4: []}\n"
     ]
    }
   ],
   "source": [
    "ext_repr_imgs = {i: [] for i in range(1, 5)}\n",
    "print(ext_repr_imgs)\n",
    "ext_repr_imgs[1].append(5)\n",
    "print(ext_repr_imgs)"
   ]
  }
 ],
 "metadata": {
  "kernelspec": {
   "display_name": "Python 3",
   "language": "python",
   "name": "python3"
  },
  "language_info": {
   "codemirror_mode": {
    "name": "ipython",
    "version": 3
   },
   "file_extension": ".py",
   "mimetype": "text/x-python",
   "name": "python",
   "nbconvert_exporter": "python",
   "pygments_lexer": "ipython3",
   "version": "3.7.9"
  }
 },
 "nbformat": 4,
 "nbformat_minor": 5
}
