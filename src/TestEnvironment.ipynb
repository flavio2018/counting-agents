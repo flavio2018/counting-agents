{
 "cells": [
  {
   "cell_type": "code",
   "execution_count": 1,
   "id": "loaded-coaching",
   "metadata": {},
   "outputs": [],
   "source": [
    "from SingleAgent import SingleRLAgent"
   ]
  },
  {
   "cell_type": "code",
   "execution_count": 31,
   "id": "adopted-effectiveness",
   "metadata": {},
   "outputs": [],
   "source": [
    "%run SingleAgent.py\n",
    "%run utils.py"
   ]
  },
  {
   "cell_type": "code",
   "execution_count": 32,
   "id": "greater-landscape",
   "metadata": {},
   "outputs": [],
   "source": [
    "agent_params = {\n",
    "    'max_objects': 4,\n",
    "    'obs_dim': 4,\n",
    "}\n",
    "\n",
    "agent = SingleRLAgent(agent_params)"
   ]
  },
  {
   "cell_type": "code",
   "execution_count": 33,
   "id": "generous-spanking",
   "metadata": {},
   "outputs": [
    {
     "data": {
      "image/png": "[encoded data removed]",
      "text/plain": [
       "<PIL.Image.Image image mode=RGB size=780x250 at 0x7FEBFEDC1490>"
      ]
     },
     "execution_count": 33,
     "metadata": {},
     "output_type": "execute_result"
    }
   ],
   "source": [
    "agent.render()"
   ]
  },
  {
   "cell_type": "code",
   "execution_count": 34,
   "id": "common-example",
   "metadata": {},
   "outputs": [
    {
     "data": {
      "image/png": "[encoded data removed]",
      "text/plain": [
       "<PIL.Image.Image image mode=RGB size=780x250 at 0x7FEBFEDC1C10>"
      ]
     },
     "execution_count": 34,
     "metadata": {},
     "output_type": "execute_result"
    }
   ],
   "source": [
    "action = 'left'\n",
    "agent.step(action)\n",
    "agent.render()"
   ]
  },
  {
   "cell_type": "code",
   "execution_count": 39,
   "id": "super-creator",
   "metadata": {},
   "outputs": [],
   "source": [
    "### Create a gif with sample actions\n",
    "import imageio\n",
    "\n",
    "agent_params = {\n",
    "    'max_objects': 4,\n",
    "    'obs_dim': 4,\n",
    "}\n",
    "\n",
    "agent = SingleRLAgent(agent_params)\n",
    "\n",
    "images = []\n",
    "images.append(agent.render())\n",
    "\n",
    "n_steps = 5\n",
    "for i in range(n_steps):\n",
    "    action = n_steps-i-1 #random.randint(0, agent.action_dim-1)\n",
    "    agent.step(action)\n",
    "    images.append(agent.render())\n",
    "imageio.mimsave('env_demo_2.gif', images, fps=0.5)"
   ]
  },
  {
   "cell_type": "code",
   "execution_count": null,
   "id": "opened-principal",
   "metadata": {},
   "outputs": [],
   "source": []
  }
 ],
 "metadata": {
  "kernelspec": {
   "display_name": "Python 3",
   "language": "python",
   "name": "python3"
  },
  "language_info": {
   "codemirror_mode": {
    "name": "ipython",
    "version": 3
   },
   "file_extension": ".py",
   "mimetype": "text/x-python",
   "name": "python",
   "nbconvert_exporter": "python",
   "pygments_lexer": "ipython3",
   "version": "3.7.9"
  }
 },
 "nbformat": 4,
 "nbformat_minor": 5
}
